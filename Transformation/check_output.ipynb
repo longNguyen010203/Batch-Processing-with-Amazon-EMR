{
 "cells": [
  {
   "cell_type": "code",
   "execution_count": 2,
   "metadata": {},
   "outputs": [],
   "source": [
    "from datetime import datetime\n",
    "from pyspark.sql import SparkSession"
   ]
  },
  {
   "cell_type": "code",
   "execution_count": 3,
   "metadata": {},
   "outputs": [
    {
     "name": "stderr",
     "output_type": "stream",
     "text": [
      "Setting default log level to \"WARN\".\n",
      "To adjust logging level use sc.setLogLevel(newLevel). For SparkR, use setLogLevel(newLevel).\n",
      "24/09/16 22:23:21 WARN NativeCodeLoader: Unable to load native-hadoop library for your platform... using builtin-java classes where applicable\n"
     ]
    }
   ],
   "source": [
    "spark = SparkSession.builder.appName(\"101-pyspark_Testing\".format(datetime.today())).master(\"local[*]\").getOrCreate()"
   ]
  },
  {
   "cell_type": "code",
   "execution_count": 4,
   "metadata": {},
   "outputs": [],
   "source": [
    "URL = \"/home/longnguyen/Documents/Coding/Workshop-AWS/batch-processing-with-amz-emr/data/part-00022-136af261-b7cc-46e7-8f40-e6e0ffbf418e-c000.snappy.parquet\""
   ]
  },
  {
   "cell_type": "code",
   "execution_count": 5,
   "metadata": {},
   "outputs": [],
   "source": [
    "df = spark.read.parquet(URL, header=True, inferSchema=True)"
   ]
  },
  {
   "cell_type": "code",
   "execution_count": 6,
   "metadata": {},
   "outputs": [
    {
     "name": "stdout",
     "output_type": "stream",
     "text": [
      "+-------+---------+--------------------+--------+-------------------+---------+----------+--------------+---+-----+----+----------+\n",
      "|OrderID|ProductID|         Description|Quantity|          OrderDate|UnitPrice|CustomerID|       Country|Day|Month|Year|HourMinute|\n",
      "+-------+---------+--------------------+--------+-------------------+---------+----------+--------------+---+-----+----+----------+\n",
      "| 537810|    22415|   white tissue ream|       3|2010-12-08 20:30:00|     7.95|     15032|United Kingdom|  8|   12|2010|     13:30|\n",
      "| 538204|    21911|  garden metal sign |      12|2010-12-10 18:23:00|     1.65|     16656|United Kingdom| 10|   12|2010|     11:23|\n",
      "| 538204|    21704|bag 250g swirly m...|     216|2010-12-10 18:23:00|     0.72|     16656|United Kingdom| 10|   12|2010|     11:23|\n",
      "| 538204|    21790|  vintage snap cards|      72|2010-12-10 18:23:00|     0.72|     16656|United Kingdom| 10|   12|2010|     11:23|\n",
      "| 538204|   84508A|camouflage design...|      96|2010-12-10 18:23:00|      2.1|     16656|United Kingdom| 10|   12|2010|     11:23|\n",
      "| 539420|    21484|chick grey hot wa...|      36|2010-12-17 21:15:00|     2.95|     15160|United Kingdom| 17|   12|2010|     14:15|\n",
      "| 539420|    21984|pack of 12 pink p...|      24|2010-12-17 21:15:00|     0.29|     15160|United Kingdom| 17|   12|2010|     14:15|\n",
      "| 539420|   72351B|set/6 pink  butte...|      12|2010-12-17 21:15:00|      2.1|     15160|United Kingdom| 17|   12|2010|     14:15|\n",
      "| 539420|    22557|plasters in tin v...|      12|2010-12-17 21:15:00|     1.65|     15160|United Kingdom| 17|   12|2010|     14:15|\n",
      "| 539643|    51008|afghan slipper so...|       3|2010-12-20 22:48:00|     3.45|     18538|United Kingdom| 20|   12|2010|     15:48|\n",
      "| 540176|    79321|       chilli lights|      24|2011-01-05 19:40:00|     4.25|     17511|United Kingdom|  5|    1|2011|     12:40|\n",
      "| 540176|   85099F|jumbo bag strawberry|     100|2011-01-05 19:40:00|     1.65|     17511|United Kingdom|  5|    1|2011|     12:40|\n",
      "| 540176|    21928|jumbo bag scandin...|     100|2011-01-05 19:40:00|     1.65|     17511|United Kingdom|  5|    1|2011|     12:40|\n",
      "| 540176|    22768|family photo fram...|      16|2011-01-05 19:40:00|      8.5|     17511|United Kingdom|  5|    1|2011|     12:40|\n",
      "| 540176|    22169|family album whit...|       8|2011-01-05 19:40:00|     7.65|     17511|United Kingdom|  5|    1|2011|     12:40|\n",
      "| 540176|    22767|triple photo fram...|      16|2011-01-05 19:40:00|      8.5|     17511|United Kingdom|  5|    1|2011|     12:40|\n",
      "| 540176|    20685|doormat red retro...|      10|2011-01-05 19:40:00|     6.75|     17511|United Kingdom|  5|    1|2011|     12:40|\n",
      "| 540176|    21955|doormat union jac...|      10|2011-01-05 19:40:00|     6.75|     17511|United Kingdom|  5|    1|2011|     12:40|\n",
      "| 540176|    21238|   red retrospot cup|      96|2011-01-05 19:40:00|     0.72|     17511|United Kingdom|  5|    1|2011|     12:40|\n",
      "| 540176|    21240|   blue polkadot cup|      96|2011-01-05 19:40:00|     0.72|     17511|United Kingdom|  5|    1|2011|     12:40|\n",
      "+-------+---------+--------------------+--------+-------------------+---------+----------+--------------+---+-----+----+----------+\n",
      "only showing top 20 rows\n",
      "\n"
     ]
    }
   ],
   "source": [
    "df.show(20)"
   ]
  },
  {
   "cell_type": "code",
   "execution_count": null,
   "metadata": {},
   "outputs": [],
   "source": []
  }
 ],
 "metadata": {
  "kernelspec": {
   "display_name": ".ws1-venv",
   "language": "python",
   "name": "python3"
  },
  "language_info": {
   "codemirror_mode": {
    "name": "ipython",
    "version": 3
   },
   "file_extension": ".py",
   "mimetype": "text/x-python",
   "name": "python",
   "nbconvert_exporter": "python",
   "pygments_lexer": "ipython3",
   "version": "3.11.6"
  }
 },
 "nbformat": 4,
 "nbformat_minor": 2
}
