{
 "cells": [
  {
   "cell_type": "code",
   "execution_count": 4,
   "metadata": {},
   "outputs": [],
   "source": [
    "from datetime import datetime"
   ]
  },
  {
   "cell_type": "code",
   "execution_count": 1,
   "metadata": {},
   "outputs": [],
   "source": [
    "from pyspark.sql import SparkSession\n",
    "from pyspark.sql import DataFrame\n",
    "from pyspark.sql import functions as F\n",
    "from pyspark.sql import types as T\n",
    "from pyspark.sql.window import Window"
   ]
  },
  {
   "cell_type": "code",
   "execution_count": 3,
   "metadata": {},
   "outputs": [
    {
     "name": "stderr",
     "output_type": "stream",
     "text": [
      "Setting default log level to \"WARN\".\n",
      "To adjust logging level use sc.setLogLevel(newLevel). For SparkR, use setLogLevel(newLevel).\n",
      "24/09/15 00:26:31 WARN NativeCodeLoader: Unable to load native-hadoop library for your platform... using builtin-java classes where applicable\n"
     ]
    }
   ],
   "source": [
    "spark = SparkSession.builder.appName(\"101-pyspark_Testing\".format(datetime.today())).master(\"local[*]\").getOrCreate()"
   ]
  },
  {
   "cell_type": "code",
   "execution_count": 5,
   "metadata": {},
   "outputs": [],
   "source": [
    "URL = \"/home/longnguyen/Documents/Coding/Workshop-AWS/batch-processing-with-amz-emr/data/OnlineRetail.csv\""
   ]
  },
  {
   "cell_type": "code",
   "execution_count": 5,
   "metadata": {},
   "outputs": [
    {
     "name": "stderr",
     "output_type": "stream",
     "text": [
      "                                                                                \r"
     ]
    }
   ],
   "source": [
    "df = spark.read.csv(URL, header=True, inferSchema=True)"
   ]
  },
  {
   "cell_type": "code",
   "execution_count": 6,
   "metadata": {},
   "outputs": [
    {
     "name": "stdout",
     "output_type": "stream",
     "text": [
      "+---------+---------+--------------------+--------+--------------+---------+----------+--------------+\n",
      "|InvoiceNo|StockCode|         Description|Quantity|   InvoiceDate|UnitPrice|CustomerID|       Country|\n",
      "+---------+---------+--------------------+--------+--------------+---------+----------+--------------+\n",
      "|   536365|   85123A|WHITE HANGING HEA...|       6|12/1/2010 8:26|     2.55|     17850|United Kingdom|\n",
      "|   536365|    71053| WHITE METAL LANTERN|       6|12/1/2010 8:26|     3.39|     17850|United Kingdom|\n",
      "|   536365|   84406B|CREAM CUPID HEART...|       8|12/1/2010 8:26|     2.75|     17850|United Kingdom|\n",
      "|   536365|   84029G|KNITTED UNION FLA...|       6|12/1/2010 8:26|     3.39|     17850|United Kingdom|\n",
      "|   536365|   84029E|RED WOOLLY HOTTIE...|       6|12/1/2010 8:26|     3.39|     17850|United Kingdom|\n",
      "|   536365|    22752|SET 7 BABUSHKA NE...|       2|12/1/2010 8:26|     7.65|     17850|United Kingdom|\n",
      "|   536365|    21730|GLASS STAR FROSTE...|       6|12/1/2010 8:26|     4.25|     17850|United Kingdom|\n",
      "|   536366|    22633|HAND WARMER UNION...|       6|12/1/2010 8:28|     1.85|     17850|United Kingdom|\n",
      "|   536366|    22632|HAND WARMER RED P...|       6|12/1/2010 8:28|     1.85|     17850|United Kingdom|\n",
      "|   536367|    84879|ASSORTED COLOUR B...|      32|12/1/2010 8:34|     1.69|     13047|United Kingdom|\n",
      "+---------+---------+--------------------+--------+--------------+---------+----------+--------------+\n",
      "only showing top 10 rows\n",
      "\n"
     ]
    }
   ],
   "source": [
    "df.show(10)"
   ]
  },
  {
   "cell_type": "code",
   "execution_count": 7,
   "metadata": {},
   "outputs": [
    {
     "name": "stdout",
     "output_type": "stream",
     "text": [
      "+-------+---------+--------------------+--------+--------------+---------+----------+--------------+\n",
      "|OrderID|ProductID|         Description|Quantity|     OrderDate|UnitPrice|CustomerID|       Country|\n",
      "+-------+---------+--------------------+--------+--------------+---------+----------+--------------+\n",
      "| 536365|   85123A|WHITE HANGING HEA...|       6|12/1/2010 8:26|     2.55|     17850|United Kingdom|\n",
      "| 536365|    71053| WHITE METAL LANTERN|       6|12/1/2010 8:26|     3.39|     17850|United Kingdom|\n",
      "| 536365|   84406B|CREAM CUPID HEART...|       8|12/1/2010 8:26|     2.75|     17850|United Kingdom|\n",
      "| 536365|   84029G|KNITTED UNION FLA...|       6|12/1/2010 8:26|     3.39|     17850|United Kingdom|\n",
      "| 536365|   84029E|RED WOOLLY HOTTIE...|       6|12/1/2010 8:26|     3.39|     17850|United Kingdom|\n",
      "| 536365|    22752|SET 7 BABUSHKA NE...|       2|12/1/2010 8:26|     7.65|     17850|United Kingdom|\n",
      "| 536365|    21730|GLASS STAR FROSTE...|       6|12/1/2010 8:26|     4.25|     17850|United Kingdom|\n",
      "| 536366|    22633|HAND WARMER UNION...|       6|12/1/2010 8:28|     1.85|     17850|United Kingdom|\n",
      "| 536366|    22632|HAND WARMER RED P...|       6|12/1/2010 8:28|     1.85|     17850|United Kingdom|\n",
      "| 536367|    84879|ASSORTED COLOUR B...|      32|12/1/2010 8:34|     1.69|     13047|United Kingdom|\n",
      "| 536367|    22745|POPPY'S PLAYHOUSE...|       6|12/1/2010 8:34|      2.1|     13047|United Kingdom|\n",
      "| 536367|    22748|POPPY'S PLAYHOUSE...|       6|12/1/2010 8:34|      2.1|     13047|United Kingdom|\n",
      "| 536367|    22749|FELTCRAFT PRINCES...|       8|12/1/2010 8:34|     3.75|     13047|United Kingdom|\n",
      "| 536367|    22310|IVORY KNITTED MUG...|       6|12/1/2010 8:34|     1.65|     13047|United Kingdom|\n",
      "| 536367|    84969|BOX OF 6 ASSORTED...|       6|12/1/2010 8:34|     4.25|     13047|United Kingdom|\n",
      "| 536367|    22623|BOX OF VINTAGE JI...|       3|12/1/2010 8:34|     4.95|     13047|United Kingdom|\n",
      "| 536367|    22622|BOX OF VINTAGE AL...|       2|12/1/2010 8:34|     9.95|     13047|United Kingdom|\n",
      "| 536367|    21754|HOME BUILDING BLO...|       3|12/1/2010 8:34|     5.95|     13047|United Kingdom|\n",
      "| 536367|    21755|LOVE BUILDING BLO...|       3|12/1/2010 8:34|     5.95|     13047|United Kingdom|\n",
      "| 536367|    21777|RECIPE BOX WITH M...|       4|12/1/2010 8:34|     7.95|     13047|United Kingdom|\n",
      "+-------+---------+--------------------+--------+--------------+---------+----------+--------------+\n",
      "only showing top 20 rows\n",
      "\n"
     ]
    }
   ],
   "source": [
    "# Rename Columns\n",
    "col_renames = {'InvoiceNo': 'OrderID', 'StockCode': 'ProductID', 'InvoiceDate': 'OrderDate'}\n",
    "\n",
    "for old_name, new_name in col_renames.items():\n",
    "    df = df.withColumnRenamed(old_name, new_name)\n",
    "    \n",
    "df.show(20)"
   ]
  },
  {
   "cell_type": "code",
   "execution_count": 8,
   "metadata": {},
   "outputs": [
    {
     "name": "stdout",
     "output_type": "stream",
     "text": [
      "root\n",
      " |-- OrderID: string (nullable = true)\n",
      " |-- ProductID: string (nullable = true)\n",
      " |-- Description: string (nullable = true)\n",
      " |-- Quantity: integer (nullable = true)\n",
      " |-- OrderDate: string (nullable = true)\n",
      " |-- UnitPrice: double (nullable = true)\n",
      " |-- CustomerID: integer (nullable = true)\n",
      " |-- Country: string (nullable = true)\n",
      "\n"
     ]
    }
   ],
   "source": [
    "df.printSchema()"
   ]
  },
  {
   "cell_type": "code",
   "execution_count": 9,
   "metadata": {},
   "outputs": [],
   "source": [
    "# Change data type for col OrderDate\n",
    "DATE_FORMAT = [\"M/d/yyyy H:mm\", \"M/d/yyyy H:mm\", \"M/d/yyyy H:mm\"]\n",
    "\n",
    "# Thử cả hai định dạng và chọn cái hợp lệ đầu tiên\n",
    "df = df.withColumn(\"OrderDate\", F.trim(F.col(\"OrderDate\")))  # Xóa các khoảng trắng\n",
    "\n",
    "df = df.withColumn(\n",
    "    \"OrderDate\",\n",
    "    F.coalesce(\n",
    "        F.to_timestamp(F.col(\"OrderDate\"), DATE_FORMAT[0]),\n",
    "        F.to_timestamp(F.col(\"OrderDate\"), DATE_FORMAT[1]),\n",
    "        F.to_timestamp(F.col(\"OrderDate\"), DATE_FORMAT[2])\n",
    "    )\n",
    ")"
   ]
  },
  {
   "cell_type": "code",
   "execution_count": 10,
   "metadata": {},
   "outputs": [
    {
     "name": "stderr",
     "output_type": "stream",
     "text": [
      "[Stage 4:>                                                        (0 + 11) / 11]\r"
     ]
    },
    {
     "name": "stdout",
     "output_type": "stream",
     "text": [
      "+-------+---------+-----------+--------+---------+---------+----------+-------+\n",
      "|OrderID|ProductID|Description|Quantity|OrderDate|UnitPrice|CustomerID|Country|\n",
      "+-------+---------+-----------+--------+---------+---------+----------+-------+\n",
      "|      0|        0|       1454|       0|        0|        0|    135080|      0|\n",
      "+-------+---------+-----------+--------+---------+---------+----------+-------+\n",
      "\n"
     ]
    },
    {
     "name": "stderr",
     "output_type": "stream",
     "text": [
      "                                                                                \r"
     ]
    }
   ],
   "source": [
    "missing_count_expr = [F.sum(F.col(c).isNull().cast(\"int\")).alias(c) for c in df.columns]\n",
    "missing_values_df = df.agg(*missing_count_expr)\n",
    "missing_values_df.show()"
   ]
  },
  {
   "cell_type": "code",
   "execution_count": 11,
   "metadata": {},
   "outputs": [
    {
     "name": "stdout",
     "output_type": "stream",
     "text": [
      "root\n",
      " |-- OrderID: string (nullable = true)\n",
      " |-- ProductID: string (nullable = true)\n",
      " |-- Description: string (nullable = true)\n",
      " |-- Quantity: integer (nullable = true)\n",
      " |-- OrderDate: timestamp (nullable = true)\n",
      " |-- UnitPrice: double (nullable = true)\n",
      " |-- CustomerID: integer (nullable = true)\n",
      " |-- Country: string (nullable = true)\n",
      "\n"
     ]
    }
   ],
   "source": [
    "df.printSchema()"
   ]
  },
  {
   "cell_type": "code",
   "execution_count": 12,
   "metadata": {},
   "outputs": [
    {
     "name": "stdout",
     "output_type": "stream",
     "text": [
      "+-------+---------+--------------------+--------+-------------------+---------+----------+--------------+\n",
      "|OrderID|ProductID|         Description|Quantity|          OrderDate|UnitPrice|CustomerID|       Country|\n",
      "+-------+---------+--------------------+--------+-------------------+---------+----------+--------------+\n",
      "| 536365|   85123A|WHITE HANGING HEA...|       6|2010-12-01 08:26:00|     2.55|     17850|United Kingdom|\n",
      "| 536365|    71053| WHITE METAL LANTERN|       6|2010-12-01 08:26:00|     3.39|     17850|United Kingdom|\n",
      "| 536365|   84406B|CREAM CUPID HEART...|       8|2010-12-01 08:26:00|     2.75|     17850|United Kingdom|\n",
      "| 536365|   84029G|KNITTED UNION FLA...|       6|2010-12-01 08:26:00|     3.39|     17850|United Kingdom|\n",
      "| 536365|   84029E|RED WOOLLY HOTTIE...|       6|2010-12-01 08:26:00|     3.39|     17850|United Kingdom|\n",
      "| 536365|    22752|SET 7 BABUSHKA NE...|       2|2010-12-01 08:26:00|     7.65|     17850|United Kingdom|\n",
      "| 536365|    21730|GLASS STAR FROSTE...|       6|2010-12-01 08:26:00|     4.25|     17850|United Kingdom|\n",
      "| 536366|    22633|HAND WARMER UNION...|       6|2010-12-01 08:28:00|     1.85|     17850|United Kingdom|\n",
      "| 536366|    22632|HAND WARMER RED P...|       6|2010-12-01 08:28:00|     1.85|     17850|United Kingdom|\n",
      "| 536367|    84879|ASSORTED COLOUR B...|      32|2010-12-01 08:34:00|     1.69|     13047|United Kingdom|\n",
      "+-------+---------+--------------------+--------+-------------------+---------+----------+--------------+\n",
      "only showing top 10 rows\n",
      "\n"
     ]
    }
   ],
   "source": [
    "df.show(10)"
   ]
  },
  {
   "cell_type": "code",
   "execution_count": 13,
   "metadata": {},
   "outputs": [
    {
     "name": "stderr",
     "output_type": "stream",
     "text": [
      "[Stage 8:>                                                        (0 + 11) / 11]\r"
     ]
    },
    {
     "name": "stdout",
     "output_type": "stream",
     "text": [
      "+-------------------+\n",
      "|          OrderDate|\n",
      "+-------------------+\n",
      "|2010-12-02 16:42:00|\n",
      "|2010-12-03 14:27:00|\n",
      "|2010-12-05 13:26:00|\n",
      "|2010-12-06 14:46:00|\n",
      "|2010-12-07 15:54:00|\n",
      "|2010-12-15 09:07:00|\n",
      "|2010-12-16 12:23:00|\n",
      "|2010-12-21 12:46:00|\n",
      "|2010-12-02 11:20:00|\n",
      "|2010-12-05 12:57:00|\n",
      "+-------------------+\n",
      "only showing top 10 rows\n",
      "\n"
     ]
    },
    {
     "name": "stderr",
     "output_type": "stream",
     "text": [
      "                                                                                \r"
     ]
    }
   ],
   "source": [
    "orderDate_unique = df.select(\"OrderDate\").distinct()\n",
    "orderDate_unique.show(10)"
   ]
  },
  {
   "cell_type": "code",
   "execution_count": 14,
   "metadata": {},
   "outputs": [],
   "source": [
    "# Feature Engineering\n",
    "df = df.withColumn(\"Day\", F.dayofmonth(\"OrderDate\"))\n",
    "df = df.withColumn(\"Month\", F.month(\"OrderDate\"))\n",
    "df = df.withColumn(\"Year\", F.year(\"OrderDate\"))"
   ]
  },
  {
   "cell_type": "code",
   "execution_count": 15,
   "metadata": {},
   "outputs": [
    {
     "name": "stdout",
     "output_type": "stream",
     "text": [
      "+-------+---------+--------------------+--------+-------------------+---------+----------+--------------+---+-----+----+\n",
      "|OrderID|ProductID|         Description|Quantity|          OrderDate|UnitPrice|CustomerID|       Country|Day|Month|Year|\n",
      "+-------+---------+--------------------+--------+-------------------+---------+----------+--------------+---+-----+----+\n",
      "| 536365|   85123A|WHITE HANGING HEA...|       6|2010-12-01 08:26:00|     2.55|     17850|United Kingdom|  1|   12|2010|\n",
      "| 536365|    71053| WHITE METAL LANTERN|       6|2010-12-01 08:26:00|     3.39|     17850|United Kingdom|  1|   12|2010|\n",
      "| 536365|   84406B|CREAM CUPID HEART...|       8|2010-12-01 08:26:00|     2.75|     17850|United Kingdom|  1|   12|2010|\n",
      "| 536365|   84029G|KNITTED UNION FLA...|       6|2010-12-01 08:26:00|     3.39|     17850|United Kingdom|  1|   12|2010|\n",
      "| 536365|   84029E|RED WOOLLY HOTTIE...|       6|2010-12-01 08:26:00|     3.39|     17850|United Kingdom|  1|   12|2010|\n",
      "+-------+---------+--------------------+--------+-------------------+---------+----------+--------------+---+-----+----+\n",
      "only showing top 5 rows\n",
      "\n"
     ]
    }
   ],
   "source": [
    "df.show(5)"
   ]
  },
  {
   "cell_type": "code",
   "execution_count": 16,
   "metadata": {},
   "outputs": [],
   "source": [
    "TIME_FORMAT = \"HH:mm\"\n",
    "df = df.withColumn(\"HourMinute\", F.date_format(\"OrderDate\", TIME_FORMAT))"
   ]
  },
  {
   "cell_type": "code",
   "execution_count": 17,
   "metadata": {},
   "outputs": [
    {
     "name": "stdout",
     "output_type": "stream",
     "text": [
      "+-------+---------+--------------------+--------+-------------------+---------+----------+--------------+---+-----+----+----------+\n",
      "|OrderID|ProductID|         Description|Quantity|          OrderDate|UnitPrice|CustomerID|       Country|Day|Month|Year|HourMinute|\n",
      "+-------+---------+--------------------+--------+-------------------+---------+----------+--------------+---+-----+----+----------+\n",
      "| 536365|   85123A|WHITE HANGING HEA...|       6|2010-12-01 08:26:00|     2.55|     17850|United Kingdom|  1|   12|2010|     08:26|\n",
      "| 536365|    71053| WHITE METAL LANTERN|       6|2010-12-01 08:26:00|     3.39|     17850|United Kingdom|  1|   12|2010|     08:26|\n",
      "| 536365|   84406B|CREAM CUPID HEART...|       8|2010-12-01 08:26:00|     2.75|     17850|United Kingdom|  1|   12|2010|     08:26|\n",
      "| 536365|   84029G|KNITTED UNION FLA...|       6|2010-12-01 08:26:00|     3.39|     17850|United Kingdom|  1|   12|2010|     08:26|\n",
      "| 536365|   84029E|RED WOOLLY HOTTIE...|       6|2010-12-01 08:26:00|     3.39|     17850|United Kingdom|  1|   12|2010|     08:26|\n",
      "+-------+---------+--------------------+--------+-------------------+---------+----------+--------------+---+-----+----+----------+\n",
      "only showing top 5 rows\n",
      "\n"
     ]
    }
   ],
   "source": [
    "df.show(5)"
   ]
  },
  {
   "cell_type": "code",
   "execution_count": 18,
   "metadata": {},
   "outputs": [
    {
     "name": "stdout",
     "output_type": "stream",
     "text": [
      "+-------+---------+-----------+--------+---------+---------+----------+-------+---+-----+----+----------+\n",
      "|OrderID|ProductID|Description|Quantity|OrderDate|UnitPrice|CustomerID|Country|Day|Month|Year|HourMinute|\n",
      "+-------+---------+-----------+--------+---------+---------+----------+-------+---+-----+----+----------+\n",
      "|      0|        0|       1454|       0|        0|        0|    135080|      0|  0|    0|   0|         0|\n",
      "+-------+---------+-----------+--------+---------+---------+----------+-------+---+-----+----+----------+\n",
      "\n"
     ]
    },
    {
     "name": "stderr",
     "output_type": "stream",
     "text": [
      "                                                                                \r"
     ]
    }
   ],
   "source": [
    "missing_count_expr = [F.sum(F.col(c).isNull().cast(\"int\")).alias(c) for c in df.columns]\n",
    "missing_values_df = df.agg(*missing_count_expr)\n",
    "missing_values_df.show()"
   ]
  },
  {
   "cell_type": "code",
   "execution_count": 20,
   "metadata": {},
   "outputs": [],
   "source": [
    "# fill miss value for CustomerID\n",
    "\n",
    "# Tìm giá trị bắt đầu cho CustomerID mới\n",
    "max_customer_id = df.agg(F.max(\"CustomerID\")).collect()[0][0]\n",
    "\n",
    "# Lấy danh sách các OrderID có giá trị CustomerID bị thiếu (null)\n",
    "order_ids_with_null_customer = df.filter(F.col(\"CustomerID\").isNull()).select(\"OrderID\").distinct()\n",
    "\n",
    "# Tạo cột số thứ tự cho các OrderID có giá trị CustomerID null\n",
    "window_spec = Window.orderBy(\"OrderID\")\n",
    "order_ids_with_new_customer = order_ids_with_null_customer.withColumn(\"new_CustomerID\", F.row_number().over(window_spec) + max_customer_id)\n",
    "\n",
    "# Thay thế các giá trị null của cột CustomerID bằng các giá trị mới dựa trên OrderID\n",
    "df = df.join(order_ids_with_new_customer, \"OrderID\", \"left\").withColumn(\n",
    "    \"CustomerID\", \n",
    "    F.coalesce(F.col(\"CustomerID\"), F.col(\"new_CustomerID\"))\n",
    ").drop(\"new_CustomerID\")"
   ]
  },
  {
   "cell_type": "code",
   "execution_count": 21,
   "metadata": {},
   "outputs": [
    {
     "name": "stderr",
     "output_type": "stream",
     "text": [
      "24/09/15 00:42:31 WARN WindowExec: No Partition Defined for Window operation! Moving all data to a single partition, this can cause serious performance degradation.\n",
      "24/09/15 00:42:31 WARN WindowExec: No Partition Defined for Window operation! Moving all data to a single partition, this can cause serious performance degradation.\n",
      "24/09/15 00:42:31 WARN WindowExec: No Partition Defined for Window operation! Moving all data to a single partition, this can cause serious performance degradation.\n",
      "24/09/15 00:42:31 WARN WindowExec: No Partition Defined for Window operation! Moving all data to a single partition, this can cause serious performance degradation.\n",
      "24/09/15 00:42:31 WARN WindowExec: No Partition Defined for Window operation! Moving all data to a single partition, this can cause serious performance degradation.\n",
      "24/09/15 00:42:31 WARN WindowExec: No Partition Defined for Window operation! Moving all data to a single partition, this can cause serious performance degradation.\n",
      "24/09/15 00:42:31 WARN WindowExec: No Partition Defined for Window operation! Moving all data to a single partition, this can cause serious performance degradation.\n",
      "24/09/15 00:42:31 WARN WindowExec: No Partition Defined for Window operation! Moving all data to a single partition, this can cause serious performance degradation.\n"
     ]
    },
    {
     "name": "stdout",
     "output_type": "stream",
     "text": [
      "+-------+---------+--------------------+--------+-------------------+---------+----------+--------------+---+-----+----+----------+\n",
      "|OrderID|ProductID|         Description|Quantity|          OrderDate|UnitPrice|CustomerID|       Country|Day|Month|Year|HourMinute|\n",
      "+-------+---------+--------------------+--------+-------------------+---------+----------+--------------+---+-----+----+----------+\n",
      "| 536366|    22633|HAND WARMER UNION...|       6|2010-12-01 08:28:00|     1.85|     17850|United Kingdom|  1|   12|2010|     08:28|\n",
      "| 536366|    22632|HAND WARMER RED P...|       6|2010-12-01 08:28:00|     1.85|     17850|United Kingdom|  1|   12|2010|     08:28|\n",
      "| 536367|    84879|ASSORTED COLOUR B...|      32|2010-12-01 08:34:00|     1.69|     13047|United Kingdom|  1|   12|2010|     08:34|\n",
      "| 536367|    22745|POPPY'S PLAYHOUSE...|       6|2010-12-01 08:34:00|      2.1|     13047|United Kingdom|  1|   12|2010|     08:34|\n",
      "| 536365|   85123A|WHITE HANGING HEA...|       6|2010-12-01 08:26:00|     2.55|     17850|United Kingdom|  1|   12|2010|     08:26|\n",
      "| 536365|    71053| WHITE METAL LANTERN|       6|2010-12-01 08:26:00|     3.39|     17850|United Kingdom|  1|   12|2010|     08:26|\n",
      "| 536365|   84406B|CREAM CUPID HEART...|       8|2010-12-01 08:26:00|     2.75|     17850|United Kingdom|  1|   12|2010|     08:26|\n",
      "| 536365|   84029G|KNITTED UNION FLA...|       6|2010-12-01 08:26:00|     3.39|     17850|United Kingdom|  1|   12|2010|     08:26|\n",
      "| 536365|   84029E|RED WOOLLY HOTTIE...|       6|2010-12-01 08:26:00|     3.39|     17850|United Kingdom|  1|   12|2010|     08:26|\n",
      "| 536365|    22752|SET 7 BABUSHKA NE...|       2|2010-12-01 08:26:00|     7.65|     17850|United Kingdom|  1|   12|2010|     08:26|\n",
      "+-------+---------+--------------------+--------+-------------------+---------+----------+--------------+---+-----+----+----------+\n",
      "only showing top 10 rows\n",
      "\n"
     ]
    }
   ],
   "source": [
    "df.show(10)"
   ]
  },
  {
   "cell_type": "code",
   "execution_count": 22,
   "metadata": {},
   "outputs": [
    {
     "name": "stderr",
     "output_type": "stream",
     "text": [
      "24/09/15 00:42:54 WARN WindowExec: No Partition Defined for Window operation! Moving all data to a single partition, this can cause serious performance degradation.\n",
      "24/09/15 00:42:54 WARN WindowExec: No Partition Defined for Window operation! Moving all data to a single partition, this can cause serious performance degradation.\n",
      "24/09/15 00:42:56 WARN WindowExec: No Partition Defined for Window operation! Moving all data to a single partition, this can cause serious performance degradation.\n",
      "24/09/15 00:42:56 WARN WindowExec: No Partition Defined for Window operation! Moving all data to a single partition, this can cause serious performance degradation.\n",
      "24/09/15 00:42:56 WARN WindowExec: No Partition Defined for Window operation! Moving all data to a single partition, this can cause serious performance degradation.\n",
      "24/09/15 00:42:56 WARN WindowExec: No Partition Defined for Window operation! Moving all data to a single partition, this can cause serious performance degradation.\n",
      "24/09/15 00:42:56 WARN WindowExec: No Partition Defined for Window operation! Moving all data to a single partition, this can cause serious performance degradation.\n",
      "24/09/15 00:42:56 WARN WindowExec: No Partition Defined for Window operation! Moving all data to a single partition, this can cause serious performance degradation.\n",
      "                                                                                \r"
     ]
    },
    {
     "name": "stdout",
     "output_type": "stream",
     "text": [
      "+-------+---------+-----------+--------+---------+---------+----------+-------+---+-----+----+----------+\n",
      "|OrderID|ProductID|Description|Quantity|OrderDate|UnitPrice|CustomerID|Country|Day|Month|Year|HourMinute|\n",
      "+-------+---------+-----------+--------+---------+---------+----------+-------+---+-----+----+----------+\n",
      "|      0|        0|       1454|       0|        0|        0|         0|      0|  0|    0|   0|         0|\n",
      "+-------+---------+-----------+--------+---------+---------+----------+-------+---+-----+----+----------+\n",
      "\n"
     ]
    }
   ],
   "source": [
    "missing_count_expr = [F.sum(F.col(c).isNull().cast(\"int\")).alias(c) for c in df.columns]\n",
    "missing_values_df = df.agg(*missing_count_expr)\n",
    "missing_values_df.show()"
   ]
  },
  {
   "cell_type": "code",
   "execution_count": 23,
   "metadata": {},
   "outputs": [
    {
     "name": "stdout",
     "output_type": "stream",
     "text": [
      "root\n",
      " |-- OrderID: string (nullable = true)\n",
      " |-- ProductID: string (nullable = true)\n",
      " |-- Description: string (nullable = true)\n",
      " |-- Quantity: integer (nullable = true)\n",
      " |-- OrderDate: timestamp (nullable = true)\n",
      " |-- UnitPrice: double (nullable = true)\n",
      " |-- CustomerID: integer (nullable = true)\n",
      " |-- Country: string (nullable = true)\n",
      " |-- Day: integer (nullable = true)\n",
      " |-- Month: integer (nullable = true)\n",
      " |-- Year: integer (nullable = true)\n",
      " |-- HourMinute: string (nullable = true)\n",
      "\n"
     ]
    }
   ],
   "source": [
    "df.printSchema()"
   ]
  },
  {
   "cell_type": "code",
   "execution_count": 24,
   "metadata": {},
   "outputs": [],
   "source": [
    "# Sử dụng na.fill() để thay thế các giá trị null của cột Description\n",
    "df = df.na.fill({\"Description\": \"unknown\"})\n"
   ]
  },
  {
   "cell_type": "code",
   "execution_count": 25,
   "metadata": {},
   "outputs": [
    {
     "name": "stderr",
     "output_type": "stream",
     "text": [
      "24/09/15 00:48:37 WARN WindowExec: No Partition Defined for Window operation! Moving all data to a single partition, this can cause serious performance degradation.\n",
      "24/09/15 00:48:37 WARN WindowExec: No Partition Defined for Window operation! Moving all data to a single partition, this can cause serious performance degradation.\n",
      "24/09/15 00:48:38 WARN WindowExec: No Partition Defined for Window operation! Moving all data to a single partition, this can cause serious performance degradation.\n",
      "24/09/15 00:48:38 WARN WindowExec: No Partition Defined for Window operation! Moving all data to a single partition, this can cause serious performance degradation.\n",
      "24/09/15 00:48:39 WARN WindowExec: No Partition Defined for Window operation! Moving all data to a single partition, this can cause serious performance degradation.\n",
      "24/09/15 00:48:39 WARN WindowExec: No Partition Defined for Window operation! Moving all data to a single partition, this can cause serious performance degradation.\n",
      "24/09/15 00:48:39 WARN WindowExec: No Partition Defined for Window operation! Moving all data to a single partition, this can cause serious performance degradation.\n",
      "24/09/15 00:48:39 WARN WindowExec: No Partition Defined for Window operation! Moving all data to a single partition, this can cause serious performance degradation.\n",
      "                                                                                \r"
     ]
    },
    {
     "name": "stdout",
     "output_type": "stream",
     "text": [
      "+-------+---------+-----------+--------+---------+---------+----------+-------+---+-----+----+----------+\n",
      "|OrderID|ProductID|Description|Quantity|OrderDate|UnitPrice|CustomerID|Country|Day|Month|Year|HourMinute|\n",
      "+-------+---------+-----------+--------+---------+---------+----------+-------+---+-----+----+----------+\n",
      "|      0|        0|          0|       0|        0|        0|         0|      0|  0|    0|   0|         0|\n",
      "+-------+---------+-----------+--------+---------+---------+----------+-------+---+-----+----+----------+\n",
      "\n"
     ]
    }
   ],
   "source": [
    "missing_count_expr = [F.sum(F.col(c).isNull().cast(\"int\")).alias(c) for c in df.columns]\n",
    "missing_values_df = df.agg(*missing_count_expr)\n",
    "missing_values_df.show()"
   ]
  },
  {
   "cell_type": "code",
   "execution_count": 26,
   "metadata": {},
   "outputs": [],
   "source": [
    "df = df.dropna()"
   ]
  },
  {
   "cell_type": "code",
   "execution_count": 27,
   "metadata": {},
   "outputs": [],
   "source": [
    "df = df.dropDuplicates()"
   ]
  },
  {
   "cell_type": "code",
   "execution_count": 28,
   "metadata": {},
   "outputs": [
    {
     "name": "stderr",
     "output_type": "stream",
     "text": [
      "24/09/15 00:51:10 WARN WindowExec: No Partition Defined for Window operation! Moving all data to a single partition, this can cause serious performance degradation.\n",
      "24/09/15 00:51:10 WARN WindowExec: No Partition Defined for Window operation! Moving all data to a single partition, this can cause serious performance degradation.\n",
      "24/09/15 00:51:11 WARN WindowExec: No Partition Defined for Window operation! Moving all data to a single partition, this can cause serious performance degradation.\n",
      "24/09/15 00:51:11 WARN WindowExec: No Partition Defined for Window operation! Moving all data to a single partition, this can cause serious performance degradation.\n",
      "24/09/15 00:51:11 WARN WindowExec: No Partition Defined for Window operation! Moving all data to a single partition, this can cause serious performance degradation.\n",
      "24/09/15 00:51:11 WARN WindowExec: No Partition Defined for Window operation! Moving all data to a single partition, this can cause serious performance degradation.\n",
      "24/09/15 00:51:11 WARN WindowExec: No Partition Defined for Window operation! Moving all data to a single partition, this can cause serious performance degradation.\n",
      "24/09/15 00:51:11 WARN WindowExec: No Partition Defined for Window operation! Moving all data to a single partition, this can cause serious performance degradation.\n",
      "                                                                                \r"
     ]
    },
    {
     "name": "stdout",
     "output_type": "stream",
     "text": [
      "+-------+---------+--------------------+--------+-------------------+---------+----------+--------------+---+-----+----+----------+\n",
      "|OrderID|ProductID|         Description|Quantity|          OrderDate|UnitPrice|CustomerID|       Country|Day|Month|Year|HourMinute|\n",
      "+-------+---------+--------------------+--------+-------------------+---------+----------+--------------+---+-----+----+----------+\n",
      "| 536596|    21624|VINTAGE UNION JAC...|       1|2010-12-01 17:29:00|     5.95|     18303|United Kingdom|  1|   12|2010|     17:29|\n",
      "| 536596|    22900| SET 2 TEA TOWELS...|       1|2010-12-01 17:29:00|     2.95|     18303|United Kingdom|  1|   12|2010|     17:29|\n",
      "| 536596|    22114|HOT WATER BOTTLE ...|       1|2010-12-01 17:29:00|     3.95|     18303|United Kingdom|  1|   12|2010|     17:29|\n",
      "| 536596|    21967|PACK OF 12 SKULL ...|       1|2010-12-01 17:29:00|     0.29|     18303|United Kingdom|  1|   12|2010|     17:29|\n",
      "| 536596|   84926A|WAKE UP COCKEREL ...|       4|2010-12-01 17:29:00|     1.25|     18303|United Kingdom|  1|   12|2010|     17:29|\n",
      "| 536596|    22802|FAUX FUR CHOCOLAT...|       1|2010-12-01 17:29:00|    19.95|     18303|United Kingdom|  1|   12|2010|     17:29|\n",
      "| 536938|    22386|JUMBO BAG PINK PO...|      20|2010-12-03 12:05:00|     1.95|     14680|United Kingdom|  3|   12|2010|     12:05|\n",
      "| 536938|   85099C|JUMBO  BAG BAROQU...|      20|2010-12-03 12:05:00|     1.95|     14680|United Kingdom|  3|   12|2010|     12:05|\n",
      "| 536938|    21931|JUMBO STORAGE BAG...|      20|2010-12-03 12:05:00|     1.95|     14680|United Kingdom|  3|   12|2010|     12:05|\n",
      "| 536938|    20712|JUMBO BAG WOODLAN...|      20|2010-12-03 12:05:00|     1.95|     14680|United Kingdom|  3|   12|2010|     12:05|\n",
      "| 536938|    20713|      JUMBO BAG OWLS|      20|2010-12-03 12:05:00|     1.95|     14680|United Kingdom|  3|   12|2010|     12:05|\n",
      "| 536938|    20724|RED RETROSPOT CHA...|      20|2010-12-03 12:05:00|     0.85|     14680|United Kingdom|  3|   12|2010|     12:05|\n",
      "| 536938|    22356|CHARLOTTE BAG PIN...|      20|2010-12-03 12:05:00|     0.85|     14680|United Kingdom|  3|   12|2010|     12:05|\n",
      "| 536938|   84997B|RED 3 PIECE RETRO...|      24|2010-12-03 12:05:00|     3.75|     14680|United Kingdom|  3|   12|2010|     12:05|\n",
      "| 536938|   84997A|GREEN 3 PIECE POL...|      24|2010-12-03 12:05:00|     3.75|     14680|United Kingdom|  3|   12|2010|     12:05|\n",
      "| 536938|    21479|WHITE SKULL HOT W...|      72|2010-12-03 12:05:00|     3.39|     14680|United Kingdom|  3|   12|2010|     12:05|\n",
      "| 536938|    22112|CHOCOLATE HOT WAT...|      72|2010-12-03 12:05:00|     4.25|     14680|United Kingdom|  3|   12|2010|     12:05|\n",
      "| 536938|    22837|HOT WATER BOTTLE ...|      36|2010-12-03 12:05:00|     4.25|     14680|United Kingdom|  3|   12|2010|     12:05|\n",
      "| 536938|    21258|VICTORIAN SEWING ...|      24|2010-12-03 12:05:00|    10.95|     14680|United Kingdom|  3|   12|2010|     12:05|\n",
      "| 536938|    79321|       CHILLI LIGHTS|      72|2010-12-03 12:05:00|     4.25|     14680|United Kingdom|  3|   12|2010|     12:05|\n",
      "| 537252|    22197|SMALL POPCORN HOLDER|      31|2010-12-06 10:46:00|     0.85|     18359|United Kingdom|  6|   12|2010|     10:46|\n",
      "| 537691|    22791|T-LIGHT GLASS FLU...|      12|2010-12-08 10:39:00|     1.25|     13842|United Kingdom|  8|   12|2010|     10:39|\n",
      "| 537691|    22171|3 HOOK PHOTO SHEL...|       2|2010-12-08 10:39:00|      8.5|     13842|United Kingdom|  8|   12|2010|     10:39|\n",
      "| 537691|    82486|WOOD S/3 CABINET ...|       2|2010-12-08 10:39:00|     7.95|     13842|United Kingdom|  8|   12|2010|     10:39|\n",
      "| 537691|    47566|       PARTY BUNTING|       5|2010-12-08 10:39:00|     4.65|     13842|United Kingdom|  8|   12|2010|     10:39|\n",
      "| 537691|    22470|HEART OF WICKER L...|       6|2010-12-08 10:39:00|     2.95|     13842|United Kingdom|  8|   12|2010|     10:39|\n",
      "| 537691|    22469|HEART OF WICKER S...|      12|2010-12-08 10:39:00|     1.65|     13842|United Kingdom|  8|   12|2010|     10:39|\n",
      "| 537691|    84879|ASSORTED COLOUR B...|       8|2010-12-08 10:39:00|     1.69|     13842|United Kingdom|  8|   12|2010|     10:39|\n",
      "| 537691|    20975|12 PENCILS SMALL ...|      24|2010-12-08 10:39:00|     0.65|     13842|United Kingdom|  8|   12|2010|     10:39|\n",
      "| 537691|    20981|12 PENCILS TALL T...|      12|2010-12-08 10:39:00|     0.85|     13842|United Kingdom|  8|   12|2010|     10:39|\n",
      "+-------+---------+--------------------+--------+-------------------+---------+----------+--------------+---+-----+----+----------+\n",
      "only showing top 30 rows\n",
      "\n"
     ]
    }
   ],
   "source": [
    "df.show(30)"
   ]
  },
  {
   "cell_type": "code",
   "execution_count": 29,
   "metadata": {},
   "outputs": [
    {
     "name": "stdout",
     "output_type": "stream",
     "text": [
      "root\n",
      " |-- OrderID: string (nullable = true)\n",
      " |-- ProductID: string (nullable = true)\n",
      " |-- Description: string (nullable = false)\n",
      " |-- Quantity: integer (nullable = true)\n",
      " |-- OrderDate: timestamp (nullable = true)\n",
      " |-- UnitPrice: double (nullable = true)\n",
      " |-- CustomerID: integer (nullable = true)\n",
      " |-- Country: string (nullable = true)\n",
      " |-- Day: integer (nullable = true)\n",
      " |-- Month: integer (nullable = true)\n",
      " |-- Year: integer (nullable = true)\n",
      " |-- HourMinute: string (nullable = true)\n",
      "\n"
     ]
    }
   ],
   "source": [
    "df.printSchema()"
   ]
  },
  {
   "cell_type": "code",
   "execution_count": 6,
   "metadata": {},
   "outputs": [],
   "source": [
    "def transform_calc_data(data_source: str, output_uri: str) -> None:\n",
    "    \"\"\"\n",
    "    Processes sample food establishment inspection data and queries the data to find \n",
    "    the top 10 establishments with the most Red violations from 2006 to 2020.\n",
    "\n",
    "    :param data_source: The URI of your food establishment data CSV, \n",
    "    such as 's3://DOC-EXAMPLE-BUCKET/food-establishment-data.csv'.\n",
    "    :param output_uri: The URI where output is written, such as \n",
    "    's3://DOC-EXAMPLE-BUCKET/restaurant_violation_results'.\n",
    "    \"\"\"\n",
    "    \n",
    "    with SparkSession.builder.appName(\"emr-cluster-{}\".format(\n",
    "        datetime.today())).getOrCreate() as spark:\n",
    "                                 \n",
    "        # Load the Online Retail CSV data\n",
    "        if data_source is not None:\n",
    "            df:DataFrame = spark.read.csv(data_source, header=True, inferSchema=True)\n",
    "        # Log into EMR stdout\n",
    "        print(f\"Dataset have shape: {(df.count(), df.columns)}\")\n",
    "        \n",
    "        # Rename Columns\n",
    "        col_renames = {\n",
    "            'InvoiceNo': 'OrderID', \n",
    "            'StockCode': 'ProductID', \n",
    "            'InvoiceDate': 'OrderDate'\n",
    "        }\n",
    "        for old_name, new_name in col_renames.items():\n",
    "            df = df.withColumnRenamed(old_name, new_name)\n",
    "        \n",
    "        # Remove spaces\n",
    "        df = df.withColumn(\"OrderDate\", F.trim(F.col(\"OrderDate\"))) \n",
    "            \n",
    "        # Change data type for column OrderDate\n",
    "        DATE_FORMAT = [\"M/d/yyyy H:mm\", \"M/d/yyyy H:mm\", \"M/d/yyyy H:mm\"]\n",
    "        df = df.withColumn(\n",
    "            \"OrderDate\",\n",
    "            F.coalesce(\n",
    "                F.to_timestamp(F.col(\"OrderDate\"), DATE_FORMAT[0]),\n",
    "                F.to_timestamp(F.col(\"OrderDate\"), DATE_FORMAT[1]),\n",
    "                F.to_timestamp(F.col(\"OrderDate\"), DATE_FORMAT[2])\n",
    "            )\n",
    "        )\n",
    "        # Feature Engineering\n",
    "        TIME_FORMAT = \"HH:mm\"\n",
    "        df = df.withColumn(\"Day\", F.dayofmonth(\"OrderDate\"))\n",
    "        df = df.withColumn(\"Month\", F.month(\"OrderDate\"))\n",
    "        df = df.withColumn(\"Year\", F.year(\"OrderDate\"))\n",
    "        df = df.withColumn(\"HourMinute\", F.date_format(\"OrderDate\", TIME_FORMAT))\n",
    "            \n",
    "        # Tìm giá trị bắt đầu cho CustomerID mới\n",
    "        max_customer_id = df.agg(F.max(\"CustomerID\")).collect()[0][0]\n",
    "        \n",
    "        # Lấy danh sách các OrderID có giá trị CustomerID bị thiếu (null)\n",
    "        order_ids_with_null_customer = df.filter(F.col(\"CustomerID\").isNull()).select(\"OrderID\").distinct()\n",
    "        \n",
    "        # Tạo cột số thứ tự cho các OrderID có giá trị CustomerID null\n",
    "        window_spec = Window.orderBy(\"OrderID\")\n",
    "        order_ids_with_new_customer = order_ids_with_null_customer.withColumn(\n",
    "            \"new_CustomerID\", F.row_number().over(window_spec) + max_customer_id)\n",
    "        \n",
    "        # Thay thế các giá trị null của cột CustomerID bằng các giá trị mới dựa trên OrderID\n",
    "        df = df.join(order_ids_with_new_customer, \"OrderID\", \"left\").withColumn(\n",
    "            \"CustomerID\", F.coalesce(F.col(\"CustomerID\"), F.col(\"new_CustomerID\"))\n",
    "        ).drop(\"new_CustomerID\")\n",
    "        \n",
    "        # Sử dụng na.fill() để thay thế các giá trị null của cột Description\n",
    "        df = df.withColumn(\"Description\", F.lower(F.col(\"Description\")))\n",
    "        df = df.na.fill({\"Description\": \"unknown\"})\n",
    "        \n",
    "        df = df.dropna()\n",
    "        df = df.dropDuplicates()\n",
    "        \n",
    "        # Write our results as parquet files\n",
    "        # df.write.option(\"header\", \"true\").mode(\"overwrite\").parquet(output_uri)\n",
    "        df.show(10)"
   ]
  },
  {
   "cell_type": "code",
   "execution_count": 7,
   "metadata": {},
   "outputs": [
    {
     "name": "stderr",
     "output_type": "stream",
     "text": [
      "Setting default log level to \"WARN\".\n",
      "To adjust logging level use sc.setLogLevel(newLevel). For SparkR, use setLogLevel(newLevel).\n",
      "24/09/15 01:32:31 WARN NativeCodeLoader: Unable to load native-hadoop library for your platform... using builtin-java classes where applicable\n",
      "                                                                                \r"
     ]
    },
    {
     "name": "stdout",
     "output_type": "stream",
     "text": [
      "Dataset have shape: (541909, ['InvoiceNo', 'StockCode', 'Description', 'Quantity', 'InvoiceDate', 'UnitPrice', 'CustomerID', 'Country'])\n"
     ]
    },
    {
     "name": "stderr",
     "output_type": "stream",
     "text": [
      "24/09/15 01:32:40 WARN WindowExec: No Partition Defined for Window operation! Moving all data to a single partition, this can cause serious performance degradation.\n",
      "24/09/15 01:32:40 WARN WindowExec: No Partition Defined for Window operation! Moving all data to a single partition, this can cause serious performance degradation.\n",
      "24/09/15 01:32:42 WARN WindowExec: No Partition Defined for Window operation! Moving all data to a single partition, this can cause serious performance degradation.\n",
      "24/09/15 01:32:42 WARN WindowExec: No Partition Defined for Window operation! Moving all data to a single partition, this can cause serious performance degradation.\n",
      "24/09/15 01:32:42 WARN WindowExec: No Partition Defined for Window operation! Moving all data to a single partition, this can cause serious performance degradation.\n",
      "24/09/15 01:32:42 WARN WindowExec: No Partition Defined for Window operation! Moving all data to a single partition, this can cause serious performance degradation.\n",
      "24/09/15 01:32:42 WARN WindowExec: No Partition Defined for Window operation! Moving all data to a single partition, this can cause serious performance degradation.\n",
      "24/09/15 01:32:42 WARN WindowExec: No Partition Defined for Window operation! Moving all data to a single partition, this can cause serious performance degradation.\n",
      "                                                                                \r"
     ]
    },
    {
     "name": "stdout",
     "output_type": "stream",
     "text": [
      "+-------+---------+--------------------+--------+-------------------+---------+----------+--------------+---+-----+----+----------+\n",
      "|OrderID|ProductID|         Description|Quantity|          OrderDate|UnitPrice|CustomerID|       Country|Day|Month|Year|HourMinute|\n",
      "+-------+---------+--------------------+--------+-------------------+---------+----------+--------------+---+-----+----+----------+\n",
      "| 536596|    21624|vintage union jac...|       1|2010-12-01 17:29:00|     5.95|     18303|United Kingdom|  1|   12|2010|     17:29|\n",
      "| 536596|    22900| set 2 tea towels...|       1|2010-12-01 17:29:00|     2.95|     18303|United Kingdom|  1|   12|2010|     17:29|\n",
      "| 536596|    22114|hot water bottle ...|       1|2010-12-01 17:29:00|     3.95|     18303|United Kingdom|  1|   12|2010|     17:29|\n",
      "| 536596|    21967|pack of 12 skull ...|       1|2010-12-01 17:29:00|     0.29|     18303|United Kingdom|  1|   12|2010|     17:29|\n",
      "| 536596|   84926A|wake up cockerel ...|       4|2010-12-01 17:29:00|     1.25|     18303|United Kingdom|  1|   12|2010|     17:29|\n",
      "| 536596|    22802|faux fur chocolat...|       1|2010-12-01 17:29:00|    19.95|     18303|United Kingdom|  1|   12|2010|     17:29|\n",
      "| 536938|    22386|jumbo bag pink po...|      20|2010-12-03 12:05:00|     1.95|     14680|United Kingdom|  3|   12|2010|     12:05|\n",
      "| 536938|   85099C|jumbo  bag baroqu...|      20|2010-12-03 12:05:00|     1.95|     14680|United Kingdom|  3|   12|2010|     12:05|\n",
      "| 536938|    21931|jumbo storage bag...|      20|2010-12-03 12:05:00|     1.95|     14680|United Kingdom|  3|   12|2010|     12:05|\n",
      "| 536938|    20712|jumbo bag woodlan...|      20|2010-12-03 12:05:00|     1.95|     14680|United Kingdom|  3|   12|2010|     12:05|\n",
      "+-------+---------+--------------------+--------+-------------------+---------+----------+--------------+---+-----+----+----------+\n",
      "only showing top 10 rows\n",
      "\n"
     ]
    }
   ],
   "source": [
    "transform_calc_data(URL, \"sdjf\")"
   ]
  },
  {
   "cell_type": "code",
   "execution_count": null,
   "metadata": {},
   "outputs": [],
   "source": []
  }
 ],
 "metadata": {
  "kernelspec": {
   "display_name": ".ws1-venv",
   "language": "python",
   "name": "python3"
  },
  "language_info": {
   "codemirror_mode": {
    "name": "ipython",
    "version": 3
   },
   "file_extension": ".py",
   "mimetype": "text/x-python",
   "name": "python",
   "nbconvert_exporter": "python",
   "pygments_lexer": "ipython3",
   "version": "3.11.6"
  }
 },
 "nbformat": 4,
 "nbformat_minor": 2
}
